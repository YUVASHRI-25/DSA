{
 "cells": [
  {
   "cell_type": "code",
   "execution_count": null,
   "id": "e8a63df4",
   "metadata": {},
   "outputs": [],
   "source": [
    "#prime number check\n",
    "num = int(input())\n",
    "\n",
    "if num > 1:\n",
    "    for i in range(2, num):\n",
    "        if num % i == 0:\n",
    "            print(num, \"is not a prime number\")\n",
    "            break\n",
    "    else:\n",
    "        print(num, \"is a prime number\")\n",
    "else:\n",
    "    print(num, \"is not a prime number\")\n"
   ]
  }
 ],
 "metadata": {
  "language_info": {
   "name": "python"
  }
 },
 "nbformat": 4,
 "nbformat_minor": 5
}
