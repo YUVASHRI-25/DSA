{
 "cells": [
  {
   "cell_type": "code",
   "execution_count": null,
   "id": "dfb168ea",
   "metadata": {},
   "outputs": [],
   "source": [
    "#ARMSTRONG NUMBER\n",
    "n = int(input())\n",
    "copy = n\n",
    "count = len(str(n))  \n",
    "sum = 0\n",
    "\n",
    "while n > 0:\n",
    "    digit = n % 10\n",
    "    sum += digit ** count\n",
    "    n //= 10\n",
    "\n",
    "if sum == copy:\n",
    "    print(\"Armstrong number\")\n",
    "else:\n",
    "    print(\"Not an Armstrong number\")\n"
   ]
  }
 ],
 "metadata": {
  "language_info": {
   "name": "python"
  }
 },
 "nbformat": 4,
 "nbformat_minor": 5
}
