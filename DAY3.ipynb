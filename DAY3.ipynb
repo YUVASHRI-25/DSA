{
 "cells": [
  {
   "cell_type": "code",
   "execution_count": null,
   "id": "5998b4db",
   "metadata": {},
   "outputs": [],
   "source": [
    "#arrays, strings, for loop\n",
    "\n",
    "arr=eval(input('Enter a integer array: '))\n",
    "target=int(input('Enter a target number: '))\n",
    "arr.sort()\n",
    "for i in range(len(arr)):\n",
    "  if (arr[i]>target):\n",
    "    print('Next greater element of the target element:',arr[i])\n",
    "    break\n",
    "\n",
    "s=input('Enter a string: ')\n",
    "chr=input('Enter a character: ')[0]\n",
    "count=s.count(chr)\n",
    "print(count)"
   ]
  }
 ],
 "metadata": {
  "kernelspec": {
   "display_name": "base",
   "language": "python",
   "name": "python3"
  },
  "language_info": {
   "name": "python",
   "version": "3.13.5"
  }
 },
 "nbformat": 4,
 "nbformat_minor": 5
}
