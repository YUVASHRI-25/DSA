{
 "cells": [
  {
   "cell_type": "code",
   "execution_count": null,
   "id": "b2ac5f28",
   "metadata": {},
   "outputs": [],
   "source": [
    "#Print 1 to N using recursion\n",
    "def print_1_to_n(n, i=1):\n",
    "    if i > n:   # base case\n",
    "        return\n",
    "    print(i)\n",
    "    print_1_to_n(n, i + 1)  # recursive cal"
   ]
  }
 ],
 "metadata": {
  "language_info": {
   "name": "python"
  }
 },
 "nbformat": 4,
 "nbformat_minor": 5
}
