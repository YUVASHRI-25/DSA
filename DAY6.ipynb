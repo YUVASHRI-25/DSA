{
 "cells": [
  {
   "cell_type": "code",
   "execution_count": null,
   "id": "082adde0",
   "metadata": {},
   "outputs": [],
   "source": [
    "n = int(input())\n",
    "\n",
    "for i in range(n, 0, -1):  \n",
    "   \n",
    "    for j in range(n - i):\n",
    "        print(\" \", end=\"\")\n",
    "    for j in range(1, i + 1):\n",
    "        print(j, end=\" \")\n",
    "    print()\n"
   ]
  }
 ],
 "metadata": {
  "language_info": {
   "name": "python"
  }
 },
 "nbformat": 4,
 "nbformat_minor": 5
}
