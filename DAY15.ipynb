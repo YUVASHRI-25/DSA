{
 "cells": [
  {
   "cell_type": "code",
   "execution_count": null,
   "id": "b59afb0e",
   "metadata": {},
   "outputs": [],
   "source": [
    "#(Print N to 1 using recursion)\n",
    "def print_n_to_1(n):\n",
    "    if n == 0:   # base case\n",
    "        return\n",
    "    print(n)\n",
    "    print_n_to_1(n - 1)   # recursive call\n"
   ]
  }
 ],
 "metadata": {
  "language_info": {
   "name": "python"
  }
 },
 "nbformat": 4,
 "nbformat_minor": 5
}
