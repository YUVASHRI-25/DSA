{
 "cells": [
  {
   "cell_type": "code",
   "execution_count": null,
   "id": "e549c88e",
   "metadata": {},
   "outputs": [],
   "source": [
    "#Sum of first N numbers)\n",
    "def sum_recursion(n):\n",
    "    if n == 0:   # base case\n",
    "        return 0\n",
    "    return n + sum_recursion(n - 1)\n",
    "\n",
    "n = int(input())\n",
    "print(\"Sum of first\", n, \"numbers is:\", sum_recursion(n))\n"
   ]
  }
 ],
 "metadata": {
  "language_info": {
   "name": "python"
  }
 },
 "nbformat": 4,
 "nbformat_minor": 5
}
