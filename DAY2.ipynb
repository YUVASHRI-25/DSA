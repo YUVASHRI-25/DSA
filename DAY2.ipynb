{
 "cells": [
  {
   "cell_type": "code",
   "execution_count": null,
   "id": "80f43329",
   "metadata": {},
   "outputs": [],
   "source": [
    "a=int(input())\n",
    "\n",
    "if a<0:\n",
    "    print(False)\n",
    "\n",
    "else:\n",
    "    original=a\n",
    "    rev=0\n",
    "    last=0\n",
    "\n",
    "    while a>0:\n",
    "        \n",
    "        last=a%10\n",
    "        rev=rev*10+last\n",
    "        a//=10\n",
    "\n",
    "    if original==rev:\n",
    "        print(True)\n",
    "    else:\n",
    "        print(False)\n"
   ]
  }
 ],
 "metadata": {
  "language_info": {
   "name": "python"
  }
 },
 "nbformat": 4,
 "nbformat_minor": 5
}
