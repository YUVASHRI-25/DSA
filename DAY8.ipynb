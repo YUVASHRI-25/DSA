{
 "cells": [
  {
   "cell_type": "code",
   "execution_count": null,
   "id": "d9218286",
   "metadata": {},
   "outputs": [],
   "source": [
    "#palindrome\n",
    "def reverse(num, rev=0):\n",
    "    if num == 0:\n",
    "        return rev\n",
    "    return reverse(num // 10, rev * 10 + num % 10)\n",
    "\n",
    "n = int(input())\n",
    "if n == reverse(n):\n",
    "    print(\"Palindrome\")\n",
    "else:\n",
    "    print(\"Not a palindrome\")\n"
   ]
  },
  {
   "cell_type": "code",
   "execution_count": null,
   "id": "c5c41f00",
   "metadata": {},
   "outputs": [],
   "source": [
    "#GCD /HCF\n",
    "def gcd(a, b):\n",
    "    if b == 0:\n",
    "        return a\n",
    "    return gcd(b, a % b)\n",
    "\n",
    "a = int(input())\n",
    "b = int(input())\n",
    "print(gcd(a, b))\n",
    "\n",
    "\n",
    "import math\n",
    "a = int(input())\n",
    "b = int(input())\n",
    "print(\"HCF =\", math.gcd(a, b))\n"
   ]
  }
 ],
 "metadata": {
  "language_info": {
   "name": "python"
  }
 },
 "nbformat": 4,
 "nbformat_minor": 5
}
