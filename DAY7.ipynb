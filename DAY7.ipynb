{
 "cells": [
  {
   "cell_type": "code",
   "execution_count": null,
   "id": "48c614e7",
   "metadata": {},
   "outputs": [],
   "source": [
    "#count digits\n",
    "n = int(input())\n",
    "count = 0\n",
    "temp = n\n",
    "while temp > 0:\n",
    "    temp //= 10\n",
    "    count += 1\n",
    "print(count)\n",
    "\n",
    "#reverse number\n",
    "\n",
    "def reverse(num, rev=0):\n",
    "    if num == 0:\n",
    "        return rev\n",
    "    return reverse(num // 10, rev * 10 + num % 10)\n",
    "\n",
    "n = int(input())\n",
    "print(reverse(n))\n"
   ]
  }
 ],
 "metadata": {
  "language_info": {
   "name": "python"
  }
 },
 "nbformat": 4,
 "nbformat_minor": 5
}
