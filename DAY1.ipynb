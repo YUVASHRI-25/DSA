{
 "cells": [
  {
   "cell_type": "code",
   "execution_count": null,
   "id": "b0241993",
   "metadata": {},
   "outputs": [],
   "source": [
    "a=int(input())\n",
    "print(a)\n",
    "print(type(a))\n",
    "\n",
    "b=float(input())\n",
    "print(b)\n",
    "print(type(b))\n",
    "\n",
    "c=input()\n",
    "print(c)\n",
    "print(type(c))\n",
    "\n",
    "d=input().strip().lower==\"true\"\n",
    "print(d)\n",
    "print(type(d))"
   ]
  }
 ],
 "metadata": {
  "language_info": {
   "name": "python"
  }
 },
 "nbformat": 4,
 "nbformat_minor": 5
}
