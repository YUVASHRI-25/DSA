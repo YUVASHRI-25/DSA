{
 "cells": [
  {
   "cell_type": "code",
   "execution_count": null,
   "id": "b12886f2",
   "metadata": {},
   "outputs": [],
   "source": [
    "#(Factorial of N numbers)\n",
    "def factorial(n):\n",
    "    if n == 0 or n == 1:   # base case\n",
    "        return 1\n",
    "    return n * factorial(n - 1)\n",
    "\n",
    "n = int(input())\n",
    "print(\"Factorial of\", n, \"is:\", factorial(n))\n",
    "\n",
    "\n",
    "n = int(input())\n",
    "fact = 1\n",
    "\n",
    "for i in range(1, n + 1):\n",
    "    fact *= i\n",
    "\n",
    "print(\"Factorial of\", n, \"is:\", fact)\n"
   ]
  }
 ],
 "metadata": {
  "language_info": {
   "name": "python"
  }
 },
 "nbformat": 4,
 "nbformat_minor": 5
}
