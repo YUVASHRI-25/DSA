{
 "cells": [
  {
   "cell_type": "code",
   "execution_count": null,
   "id": "b4a995bf",
   "metadata": {},
   "outputs": [],
   "source": [
    "# (Print name N times using recursion)\n",
    "def print_name(name, n):\n",
    "    if n == 0:   \n",
    "        return\n",
    "    print(name)\n",
    "    print_name(name, n - 1)"
   ]
  }
 ],
 "metadata": {
  "language_info": {
   "name": "python"
  }
 },
 "nbformat": 4,
 "nbformat_minor": 5
}
