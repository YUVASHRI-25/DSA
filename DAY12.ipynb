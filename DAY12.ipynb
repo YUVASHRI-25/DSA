{
 "cells": [
  {
   "cell_type": "code",
   "execution_count": null,
   "id": "fbaa8b02",
   "metadata": {},
   "outputs": [],
   "source": [
    "#(Understand recursion by print something N times)\n",
    "def print_n_times(n):\n",
    "    if n == 0: \n",
    "        return\n",
    "    print(\"Hello\")  \n",
    "    print_n_times(n - 1)  "
   ]
  }
 ],
 "metadata": {
  "language_info": {
   "name": "python"
  }
 },
 "nbformat": 4,
 "nbformat_minor": 5
}
